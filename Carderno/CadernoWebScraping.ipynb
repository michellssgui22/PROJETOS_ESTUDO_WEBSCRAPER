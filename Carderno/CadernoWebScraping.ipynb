{
 "cells": [
  {
   "attachments": {},
   "cell_type": "markdown",
   "metadata": {},
   "source": [
    "# Caderno Web Scraping\n",
    "## Michel Souza Santana\n",
    "> Data Inicial: 15/01/2023"
   ]
  },
  {
   "attachments": {},
   "cell_type": "markdown",
   "metadata": {},
   "source": [
    "* O propósito deste, será realizar anotações resultantes dos estudos realizados sobre essa tecnologia e o progresso continuo do aprendizado.\n",
    "* O conteúdo inicial destas anotações advem do livro \"Web Scraping com Pyton\" (novatec, Ryan Mitchell - 2ª edição) e do curso \"Python Web Scraping\" do profesor Evaldo Wolkers, o qual se encontra disponibilizado na plataforma Udemy.\n",
    "* Para facilitar o andamento das anotações estarei seguindo a ordem sumária o livro citado."
   ]
  },
  {
   "attachments": {},
   "cell_type": "markdown",
   "metadata": {},
   "source": [
    "# Parte I - Construindo scrapers"
   ]
  },
  {
   "attachments": {},
   "cell_type": "markdown",
   "metadata": {},
   "source": [
    "## Capítulo 1 - Seu primeiro web scraper"
   ]
  },
  {
   "attachments": {},
   "cell_type": "markdown",
   "metadata": {},
   "source": [
    "### Conectando\n",
    "Desde que surgiu a internet, navegar tem ficado mais fácil a cada dia... os browsers tem se incubido de tornar essa experiência cada  vêz mais agradável e interessante, com um simples clik pode-se alcançar toda informação desejada. Será?\n",
    "Acredito que à medida que nos dedicarmos ao estudo do web scraping descobriremos que existe muito mais nos bastidores, dados e informações que só poderão ser alcançadas ao deixar de lado o conforto provido pelos maravilhosos browsers.\n",
    "À medida que nos aprofundarmos nesse estudo atingiremos cada vêz mais as camadas profundas da internet e nunca mais voltaremos a vê-la como ela parece ser hoje.\n",
    "Vamos dár os primeiros passos para começar a entender o que realmente almejamos..."
   ]
  },
  {
   "cell_type": "code",
   "execution_count": 2,
   "metadata": {},
   "outputs": [
    {
     "name": "stdout",
     "output_type": "stream",
     "text": [
      "b'\\n\\n<!DOCTYPE html>\\n<html lang=\"pt-br\">\\n\\n<head>\\n\\n    <meta charset=\"UTF-8\">\\n    <meta name=\"viewport\" content=\"width=device-width, initial-scale=1.0\">\\n    <meta http-equiv=\"X-UA-Compatible\" content=\"ie=edge\">\\n    <meta name=\"Description\" content=\"Enter your description here\" />\\n\\n    <link rel=\"stylesheet\" href=\"https://stackpath.bootstrapcdn.com/bootstrap/4.1.3/css/bootstrap.min.css\" integrity=\"sha384-MCw98/SFnGE8fJT3GXwEOngsV7Zt27NXFoaoApmYm81iuXoPkFOJwJ8ERdknLPMO\" crossorigin=\"anonymous\">\\n\\n    <link rel=\"stylesheet\" href=\"https://cdnjs.cloudflare.com/ajax/libs/twitter-bootstrap/4.6.0/css/bootstrap.min.css\">\\n    <link rel=\"stylesheet\" href=\"https://cdnjs.cloudflare.com/ajax/libs/font-awesome/5.15.4/css/all.min.css\">\\n\\n    <link rel=\"shortcut icon\" href=\"/static/img/retomar.png\" type=\"image/x-icon\">\\n\\n    <!--Estilos locais-->\\n    <link crossorigin=\"anonymous\" href=\"https://cdn.jsdelivr.net/npm/bootstrap@4.6.2/dist/css/bootstrap.min.css\" integrity=\"sha384-xOolHFLEh07PJGoPkLv1IbcEPTNtaed2xpHsD9ESMhqIYd0nLMwNLD69Npy4HI+N\" rel=\"stylesheet\">\\n    <link rel=\"stylesheet\" href=\"/static/css/style.css\">\\n    <link rel=\"stylesheet\" href=\"/static/assets/dist/css/bootstrap.min.css\">\\n    <link rel=\"stylesheet\" href=\"/static/css/global.css\">\\n\\n    <!--Font Awesome Free-->\\n    <link href=\"/static/fontawesomefree/css/fontawesome.css\" rel=\"stylesheet\" type=\"text/css\">\\n    <link href=\"/static/fontawesomefree/css/brands.css\" rel=\"stylesheet\" type=\"text/css\">\\n    <link href=\"/static/fontawesomefree/css/solid.css\" rel=\"stylesheet\" type=\"text/css\">\\n\\n    <title>Michel - Portif\\xc3\\xb3lio</title>\\n\\n</head>\\n\\n<body class=\"bg-site\">\\n\\n    <!--Barra de navega\\xc3\\xa7\\xc3\\xa3o fixa-->\\n     \\n\\n<div id=\"nav-lateral\" class=\"nav-lateral p-2\">\\n    <a href=\"#topo\" class=\"btn btn-primary\"><i class=\"fa-solid fa-up-long\"></i></a><br>\\n    <a href=\"#meio\" class=\"btn btn-secondary\"><i class=\"fa-solid fa-up-down\"></i></a><br>\\n    <a href=\"#fim\" class=\"btn btn-primary\"><i class=\"fa-solid fa-up-long\"></i></i></a>\\n</div>\\n<style>\\n    .nav-lateral{\\n        width: auto;\\n        height: auto;\\n        position: fixed;\\n        top: 32%;\\n        right: 0;\\n    }\\n\\n    .nav-lateral a{\\n        width: auto;\\n        height: 80px;\\n        display: flex;\\n        align-items: center;\\n        justify-content: center;\\n    }\\n\\n    .nav-lateral a i{\\n        color: white;\\n    }\\n\\n    .nav-lateral :nth-child(5) i{\\n        transform: rotate(180deg);\\n    }\\n\\n</style>\\n\\n    <!--Marcador de inicio-->\\n    <span id=\"topo\" class=\"navegacao\"></span>\\n\\n    \\n\\n<header id=\"cabecalho\" class=\"container d-flex justify-content-between my-0 mx-auto rounded py-2 pt-3 pb-0 bg-light w-100\">\\n<figure id=\"logo\" class=\"d-flex justify-content-center gap-3\" style=\"width: 40%;\">\\n    <a href=\"/\" style=\"width: 20%;\">\\n        <img src=\"/static/img/retomar.png\" alt=\"\" class=\"my-auto p-1 w-100\">\\n    </a>\\n    <figcaption class=\"my-auto fs-1\">Meu Portif\\xc3\\xb3lio</figcaption>\\n</figure>\\n<nav id=\"menu\" class=\"d-flex justify-content-center gap-1 p-0\" style=\"width: 60%; list-style: none;\">\\n\\n    <li class=\"text-center m-auto p-0\">\\n        <a href=\"/\">\\n            <img src=\"/static/img/home.png\" alt=\"\" style=\"width: 25%;\">\\n            <p>Home</p>\\n        </a>\\n    </li>\\n    <li class=\"text-center m-auto p-0\">\\n        <a href=\"/projetos\">\\n            <img src=\"/static/img/projetos.png\" alt=\"\" style=\"width: 25%;\">\\n            <p>Projetos</p>\\n        </a>\\n    </li>\\n    <li class=\"text-center m-auto p-0\">\\n        <a href=\"/#academico\">\\n            <img src=\"/static/img/curriculo-2.png\" alt=\"\" style=\"width: 25%;\">\\n            <p>Acad\\xc3\\xaamico</p>\\n        </a>\\n    </li>\\n    <li class=\"text-center m-auto p-0\">\\n        <a href=\"/#certificados\">\\n            <img src=\"/static/img/certificado.png\" alt=\"\" style=\"width: 25%;\">\\n            <p>Certificados</p>\\n        </a>\\n    </li>\\n    <li class=\"text-center m-auto p-0\">\\n        <a href=\"/curriculo\" target=\"_blank\">\\n            <img src=\"/static/img/curriculos.png\" alt=\"\" style=\"width: 25%;\">\\n            <p>Curr\\xc3\\xadculo</p>\\n        </a>\\n    </li>\\n    <li class=\"text-center m-auto p-0\">\\n        <a href=\"/modal\">\\n            <img src=\"/static/img/contatos.png\" alt=\"\" style=\"width: 25%;\">\\n            <p>Contato</p>\\n        </a>\\n    </li>\\n\\n</nav>\\n</header>\\n    \\n\\n    \\n    <main>\\n                <!--Sobre e Projetos-->\\n        <section class=\"container mt-3 mx-auto p-0 text-center d-flex justify-content-between gap-3 w-100\">\\n            \\n\\n<section id=\"sobre\" class=\"sobre p-3 rounded bg-light\" style=\"width: 45%;\">\\n    <figure class=\"border-5 w-100\">\\n        <img src=\"/static/img/eu.jpeg\" alt=\"\" class=\"w-50 m-auto rounded-circle mt-2\">\\n        <figcaption class=\"my-2 mx-auto\">\\n            <h1 style=\"font-size: 1.5rem;\">Michel Souza Santana</h1>\\n            <p style=\"font-size: 0.5rem;\">Data Analytics | Web Scraping | Python Developer</p>\\n        </figcaption>\\n    </figure>\\n    <ul class=\"container text-left w-100\" style=\"list-style: none;\">\\n        <li>\\n            <a href=\"#\" class=\"w-100 my-2 d-flex justify-content-start badge border rounded text-muted text-dark p-2 my-4 mx-0\">\\n                <img src=\"/static/img/e-mail.png\" alt=\"\" class=\"ml-0 my-auto\" style=\"width: 9%;\">\\n                <p class=\"ml-2 my-auto\">michellss.py@gmail.com</p>\\n            </a>\\n        </li>\\n        <li>\\n            <a href=\"#\" class=\"w-100 my-2 d-flex justify-content-start badge border rounded text-muted text-dark p-2 my-4 mx-0\">\\n                <img src=\"/static/img/whatsapp.png\" alt=\"\" class=\"ml-0 my-auto\" style=\"width: 9%;\">\\n                <p class=\"ml-2 my-auto\">(47) 9 9665-8601</p>\\n            </a>\\n        </li>\\n        <li>\\n            <a href=\"https://www.linkedin.com/in/michelgui/\" target=\"_blank\" class=\"w-100 my-2 d-flex justify-content-start badge border rounded text-muted text-dark p-2 my-4 mx-0\">\\n                <img src=\"/static/img/linkedin.png\" alt=\"\" class=\"ml-0 my-auto\" style=\"width: 9%;\">\\n                <p class=\"ml-2 my-auto\">Linkedin</p>\\n            </a>\\n        </li>\\n        <li>\\n            <a href=\"https://github.com/michellssgui22\" target=\"_blank\" class=\"w-100 my-2 d-flex justify-content-start badge border rounded text-muted text-dark p-2 my-4 mx-0\">\\n                <img src=\"/static/img/github.png\" alt=\"\" class=\"ml-0 my-auto\" style=\"width: 9%;\">\\n                <p class=\"ml-2 my-auto\">GitHub</p>\\n            </a>\\n        </li>\\n        <li>\\n            <a href=\"https://www.youtube.com/channel/UCnleYMKHYucRJUyv8az_WVw\" target=\"_blank\" class=\"w-100 my-2 d-flex justify-content-start badge border rounded text-muted text-dark p-2 my-4 mx-0\">\\n                <img src=\"/static/img/youtube.png\" alt=\"\" class=\"ml-0 my-auto\" style=\"width: 9%;\">\\n                <p class=\"ml-2 my-auto\">YouTube</p>\\n            </a>\\n        </li>\\n    </ul>\\n\\n</section>\\n\\n            <div class=\"w-100\">\\n                \\n<div class=\"container bg-light rounded py-3 mb-3\">\\n    \\n    <iframe class=\"rounded\" width=\"100%\" height=\"500\" src=\"https://www.youtube.com/embed/i2CGAye19o4\" title=\"YouTube video player\" frameborder=\"0\" allow=\"accelerometer; autoplay; clipboard-write; encrypted-media; gyroscope; picture-in-picture\" allowfullscreen></iframe>\\n    \\n</div>\\n\\n                \\n\\n<section id=\"principais-projetos\" class=\"p-3 rounded bg-light w-100\">\\n    <article>\\n        <section class=\"py-1 text-center container\">\\n            <div class=\"row py-lg-3\">\\n                <div class=\"col-lg-10 col-md-8 mx-auto\">\\n                    <h1 class=\"fw-light\">Principais Projetos</h1>\\n                    <p class=\"lead text-muted text-justify\">Seja bem vindo ao meu portif\\xc3\\xb3lio, abaixo segue uma pequena lista dos\\n                        principais projetos j\\xc3\\xa1 desenvolvidos por mim. Voc\\xc3\\xaa pode ver a lista completa navegando no menu\\n                        acima em \"Projetos\" e ou visualizar os c\\xc3\\xb3digos fontes destes no meu <a\\n                            href=\"https://github.com/michellssgui22\" target=\"_blank\"\\n                            class=\"badge text-primary fs-5 p-0\">GitHub.</a> </p>\\n                    <p class=\"lead text-muted\">Sinta-se \\xc3\\xa0 vontade para explorar...</p>\\n                </div>\\n            </div>\\n        </section>\\n\\n        <div class=\"album py-5 bg-light\">\\n            <div class=\"container\">\\n\\n                <div class=\"row row-cols-1 row-cols-sm-2 row-cols-md-2 g-3\">\\n\\n                    \\n                    \\n                    \\n                    \\n                    <div class=\"col h-100\">\\n                        <div class=\"card shadow-sm\">\\n                            <img src=\"/media/12d65317-97e1-442a-a824-732dd264867a.thumb.jpg\" alt=\"Clonando Com Web Scraping\"\\n                                class=\"bd-placeholder-img card-img-top\" width=\"100%\" height=\"225\" role=\"img\"\\n                                aria-label=\"Placeholder: Thumbnail\" preserveAspectRatio=\"xMidYMid slice\"\\n                                focusable=\"false\">\\n                            <div class=\"card-body\">\\n                                <h2>Clonando Com Web Scraping</h2>\\n                                <p class=\"text-justify\">Esse v\\xc3\\xaddeo trata-se de uma pequena demonstra\\xc3\\xa7\\xc3\\xa3o do poder imensur\\xc3\\xa1vel do WebScraping no auxilio de captura de dados.\\r\\n\\r\\nFazendo uso do django framework, python, sqlite3, beautifulsoup, html, css e javascript criei uma p\\xc3\\xa1gina para ilustar a facilidade na captura dos c\\xc3\\xb3digos fontes dos sites.</p>\\n                                <div class=\"d-flex justify-content-between align-items-center\">\\n                                    <div class=\"btn-group gap-1\">\\n                                        <a href=\"https://github.com/michellssgui22/clonandoFromPages\" class=\"btn btn-sm btn-secondary\" target=\"_blank\">GitHub</a>\\n                                        <a href=\"https://www.youtube.com/embed/i2CGAye19o4\" class=\"btn btn-sm btn-primary\" target=\"_blank\">On-Line</a>\\n                                    </div>\\n                                    <small class=\"text-muted\">3 de Janeiro de 2023</small>\\n                                </div>\\n                            </div>\\n                        </div>\\n                    </div>\\n                    \\n                    \\n                    \\n                    <div class=\"col h-100\">\\n                        <div class=\"card shadow-sm\">\\n                            <img src=\"/media/b9acacca-4ff6-45fc-980b-b9c66aeaaec8.thumb.jpg\" alt=\"Meu Portif\\xc3\\xb3lio\"\\n                                class=\"bd-placeholder-img card-img-top\" width=\"100%\" height=\"225\" role=\"img\"\\n                                aria-label=\"Placeholder: Thumbnail\" preserveAspectRatio=\"xMidYMid slice\"\\n                                focusable=\"false\">\\n                            <div class=\"card-body\">\\n                                <h2>Meu Portif\\xc3\\xb3lio</h2>\\n                                <p class=\"text-justify\">Fazendo uso das ferramentas Python, Html5, Css3, Javascript e Django, construir meu pr\\xc3\\xb3prio portif\\xc3\\xb3lio para registro e divulga\\xc3\\xa7\\xc3\\xa3o dos meu projetos.</p>\\n                                <div class=\"d-flex justify-content-between align-items-center\">\\n                                    <div class=\"btn-group gap-1\">\\n                                        <a href=\"https://github.com/michellssgui22/portifolio\" class=\"btn btn-sm btn-secondary\" target=\"_blank\">GitHub</a>\\n                                        <a href=\"https://portifoliomss.herokuapp.com/\" class=\"btn btn-sm btn-primary\" target=\"_blank\">On-Line</a>\\n                                    </div>\\n                                    <small class=\"text-muted\">7 de Janeiro de 2023</small>\\n                                </div>\\n                            </div>\\n                        </div>\\n                    </div>\\n                    \\n                    \\n\\n                </div>\\n            </div>\\n        </div>\\n    </article>\\n</section>\\n            </div>\\n        </section>\\n\\n        <!--Marcador de meio-->\\n        <span id=\"meio\" class=\"navegacao\"></span>\\n\\n        <!--Acad\\xc3\\xaamico-->\\n        <section id=\"academico\" class=\"container mt-3 mx-auto p-0 text-center bg-light p-3 rounded\">\\n            \\n\\n<h2 class=\"pb-2 border-bottom text-center fs-1\">Acad\\xc3\\xaamico</h2>\\n\\n \\n<div class=\"card w-100 mt-3\" style=\"width: 18rem;\">\\n    <div class=\"card-body text-left\">\\n        <h5 class=\"card-title\">Est\\xc3\\xa1cio de S\\xc3\\xa1</h5>\\n        <div class=\"w-100 d-flex display-justify-between p-0\">\\n            <h6 class=\"card-subtitle text-muted\">An\\xc3\\xa1lise e Desenvolvimento de Sistemas</h6>\\n            <p class=\"text-secondary ml-auto mr-0 \" style=\"font-size: 0.8rem;\"><i class=\"fa-solid fa-play\"></i> 17 de Fevereiro de 2020 <i class=\"fa-solid fa-stop ml-4\"></i> <span class=\"text-primary\">25 de Novembro de 2022</span></p>\\n        </div>\\n        <p class=\"card-text\">\\n            O enfoque do curso reside nos estudos das Ci\\xc3\\xaancias Exatas, mais especificamente aquelas ligadas ao universo da inform\\xc3\\xa1tica. Inicia-se a caminhada acad\\xc3\\xaamica com estudos introdut\\xc3\\xb3rios sobre programa\\xc3\\xa7\\xc3\\xa3o e redes de computadores.\\n        </p>\\n        <p class=\"card-text\">\\n            No decorrer do curso, as mat\\xc3\\xa9rias se aprofundam em assuntos como Complexidade de Algoritmos, Engenharia de Software e Direito Cibern\\xc3\\xa9tico.\\n        </p>\\n        <p class=\"card-text\">\\n            \\n        </p>\\n        <!--\\n        <a href=\"#\" class=\"card-link\">Card link</a>\\n        <a href=\"#\" class=\"card-link\">Another link</a>\\n        -->\\n    </div>\\n</div>\\n \\n<div class=\"card w-100 mt-3\" style=\"width: 18rem;\">\\n    <div class=\"card-body text-left\">\\n        <h5 class=\"card-title\">Escola DNC</h5>\\n        <div class=\"w-100 d-flex display-justify-between p-0\">\\n            <h6 class=\"card-subtitle text-muted\">Forma\\xc3\\xa7\\xc3\\xa3o em Dados</h6>\\n            <p class=\"text-secondary ml-auto mr-0 \" style=\"font-size: 0.8rem;\"><i class=\"fa-solid fa-play\"></i> 5 de Mar\\xc3\\xa7o de 2022 <i class=\"fa-solid fa-stop ml-4\"></i> <span class=\"text-primary\">30 de Setembro de 2023</span></p>\\n        </div>\\n        <p class=\"card-text\">\\n            Ao final do curso estarei preparado para realizar an\\xc3\\xa1lises preditivas e estat\\xc3\\xadsticas, entender a estrutura de grandes bancos de dados e SQL, montar queries e importar para o Notebook Jupyter, criar algoritmos atrav\\xc3\\xa9s de machine learning, compreender a linguagem de programa\\xc3\\xa7\\xc3\\xa3o Python e suas bibliotecas Panda e Numpy.\\n        </p>\\n        <p class=\"card-text\">\\n            Al\\xc3\\xa9m de organizar e realizar testes A/B, reportar gr\\xc3\\xa1ficos em pain\\xc3\\xa9is e compreender o Big Data e Spark.\\n        </p>\\n        <p class=\"card-text\">\\n            \\n        </p>\\n        <!--\\n        <a href=\"#\" class=\"card-link\">Card link</a>\\n        <a href=\"#\" class=\"card-link\">Another link</a>\\n        -->\\n    </div>\\n</div>\\n\\n\\n\\n        </section>\\n\\n    </main>\\n\\n    <aside id=\"certificados\">\\n        <!--Certificados-->\\n        \\n\\n<div class=\"container px-4 py-5 mt-3 bg-light rounded\">\\n    <h2 class=\"pb-2 border-bottom text-center fs-1\">Certificados</h2>\\n\\n    <section class=\"container bg-light mt-3 mx-auto p-0 gap-3 w-100 rounded\">\\n    \\n            <div class=\"album py-5 bg-light\">\\n                <div class=\"container\">\\n    \\n                    <div class=\"row row-cols-1 row-cols-sm-2 row-cols-md-3 g-5\">\\n                       \\n                        \\n                        <div class=\"col h-100\">\\n                            <div class=\"card shadow-sm\">\\n                                <img src=\"/media/7a9f27ef-8d67-4dbe-abdf-1e7071265d42.thumb.jpg\" alt=\"Programa\\xc3\\xa7\\xc3\\xa3o Web com Python e Django\"\\n                                    class=\"bd-placeholder-img card-img-top\" width=\"100%\" height=\"230\" role=\"img\"\\n                                    aria-label=\"Placeholder: Thumbnail\" preserveAspectRatio=\"xMidYMid slice\"\\n                                    focusable=\"false\">\\n                                <div class=\"card-body text-left\">\\n                                    <h2>Programa\\xc3\\xa7\\xc3\\xa3o Web com Python e Django</h2>\\n                                    <h4 class=\"card-subtitle text-muted\">Udemy</h4>\\n                                    <div class=\"d-flex justify-content-between align-items-center my-4\">\\n                                        <small class=\"text-muted\">8 de Dezembro de 2022</small>\\n                                        <small class=\"text-muted\">36 Horas</small>\\n                                    </div>\\n                                    <div class=\"btn-group justify-content-between\">\\n                                        <a href=\"https://udemy-certificate.s3.amazonaws.com/pdf/UC-cd0dfacc-e4d6-4b59-9408-bfe4870ca78a.pdf\" class=\"btn btn-sm btn-secondary\" target=\"_blank\">Valida\\xc3\\xa7\\xc3\\xa3o</a>\\n                                        <a href=\"#\" class=\"btn btn-sm btn-primary\" target=\"_blank\">Ampliar</a>\\n                                    </div>\\n                                    \\n                                </div>\\n                            </div>\\n                        </div>\\n                        \\n                        <div class=\"col h-100\">\\n                            <div class=\"card shadow-sm\">\\n                                <img src=\"/media/c590ed0d-db87-413c-a130-0f08aa85a056.thumb.jpg\" alt=\"Python Web Scraping\"\\n                                    class=\"bd-placeholder-img card-img-top\" width=\"100%\" height=\"230\" role=\"img\"\\n                                    aria-label=\"Placeholder: Thumbnail\" preserveAspectRatio=\"xMidYMid slice\"\\n                                    focusable=\"false\">\\n                                <div class=\"card-body text-left\">\\n                                    <h2>Python Web Scraping</h2>\\n                                    <h4 class=\"card-subtitle text-muted\">Udemy</h4>\\n                                    <div class=\"d-flex justify-content-between align-items-center my-4\">\\n                                        <small class=\"text-muted\">8 de Dezembro de 2022</small>\\n                                        <small class=\"text-muted\">12 Horas</small>\\n                                    </div>\\n                                    <div class=\"btn-group justify-content-between\">\\n                                        <a href=\"https://udemy-certificate.s3.amazonaws.com/pdf/UC-5ef11c60-c4b6-419e-9f4f-e7a5777ed7c7.pdf\" class=\"btn btn-sm btn-secondary\" target=\"_blank\">Valida\\xc3\\xa7\\xc3\\xa3o</a>\\n                                        <a href=\"#\" class=\"btn btn-sm btn-primary\" target=\"_blank\">Ampliar</a>\\n                                    </div>\\n                                    \\n                                </div>\\n                            </div>\\n                        </div>\\n                        \\n                        <div class=\"col h-100\">\\n                            <div class=\"card shadow-sm\">\\n                                <img src=\"/media/a38320cd-2bd4-4d64-94fd-98e78f0e965a.thumb.png\" alt=\"SQL para Ci\\xc3\\xaancia de Dados\"\\n                                    class=\"bd-placeholder-img card-img-top\" width=\"100%\" height=\"230\" role=\"img\"\\n                                    aria-label=\"Placeholder: Thumbnail\" preserveAspectRatio=\"xMidYMid slice\"\\n                                    focusable=\"false\">\\n                                <div class=\"card-body text-left\">\\n                                    <h2>SQL para Ci\\xc3\\xaancia de Dados</h2>\\n                                    <h4 class=\"card-subtitle text-muted\">Escola DNC</h4>\\n                                    <div class=\"d-flex justify-content-between align-items-center my-4\">\\n                                        <small class=\"text-muted\">13 de Junho de 2022</small>\\n                                        <small class=\"text-muted\">12 Horas</small>\\n                                    </div>\\n                                    <div class=\"btn-group justify-content-between\">\\n                                        <a href=\"https://api.dinamicatreinamentos.com/public/acervo/47SpM13923S.pdf\" class=\"btn btn-sm btn-secondary\" target=\"_blank\">Valida\\xc3\\xa7\\xc3\\xa3o</a>\\n                                        <a href=\"#\" class=\"btn btn-sm btn-primary\" target=\"_blank\">Ampliar</a>\\n                                    </div>\\n                                    \\n                                </div>\\n                            </div>\\n                        </div>\\n                        \\n                        <div class=\"col h-100\">\\n                            <div class=\"card shadow-sm\">\\n                                <img src=\"/media/bf2034f6-5006-46e4-9b17-97daa7bf1fdd.thumb.png\" alt=\"Introdu\\xc3\\xa7\\xc3\\xa3o a Ci\\xc3\\xaancias de Dados\"\\n                                    class=\"bd-placeholder-img card-img-top\" width=\"100%\" height=\"230\" role=\"img\"\\n                                    aria-label=\"Placeholder: Thumbnail\" preserveAspectRatio=\"xMidYMid slice\"\\n                                    focusable=\"false\">\\n                                <div class=\"card-body text-left\">\\n                                    <h2>Introdu\\xc3\\xa7\\xc3\\xa3o a Ci\\xc3\\xaancias de Dados</h2>\\n                                    <h4 class=\"card-subtitle text-muted\">Data Science Academy</h4>\\n                                    <div class=\"d-flex justify-content-between align-items-center my-4\">\\n                                        <small class=\"text-muted\">25 de Abril de 2022</small>\\n                                        <small class=\"text-muted\">12 Horas</small>\\n                                    </div>\\n                                    <div class=\"btn-group justify-content-between\">\\n                                        <a href=\"https://mycourse.app/hJrWkCv73JXcrHfg8\" class=\"btn btn-sm btn-secondary\" target=\"_blank\">Valida\\xc3\\xa7\\xc3\\xa3o</a>\\n                                        <a href=\"#\" class=\"btn btn-sm btn-primary\" target=\"_blank\">Ampliar</a>\\n                                    </div>\\n                                    \\n                                </div>\\n                            </div>\\n                        </div>\\n                        \\n                        <div class=\"col h-100\">\\n                            <div class=\"card shadow-sm\">\\n                                <img src=\"/media/7683aadd-4755-459d-a714-f76d0d0d2415.thumb.png\" alt=\"Introdu\\xc3\\xa7\\xc3\\xa3o \\xc3\\xa0 Python\"\\n                                    class=\"bd-placeholder-img card-img-top\" width=\"100%\" height=\"230\" role=\"img\"\\n                                    aria-label=\"Placeholder: Thumbnail\" preserveAspectRatio=\"xMidYMid slice\"\\n                                    focusable=\"false\">\\n                                <div class=\"card-body text-left\">\\n                                    <h2>Introdu\\xc3\\xa7\\xc3\\xa3o \\xc3\\xa0 Python</h2>\\n                                    <h4 class=\"card-subtitle text-muted\">Escola DNC</h4>\\n                                    <div class=\"d-flex justify-content-between align-items-center my-4\">\\n                                        <small class=\"text-muted\">18 de Mar\\xc3\\xa7o de 2022</small>\\n                                        <small class=\"text-muted\">20 Horas</small>\\n                                    </div>\\n                                    <div class=\"btn-group justify-content-between\">\\n                                        <a href=\"https://api.dinamicatreinamentos.com/public/acervo/63I\\xc3\\x83\" class=\"btn btn-sm btn-secondary\" target=\"_blank\">Valida\\xc3\\xa7\\xc3\\xa3o</a>\\n                                        <a href=\"#\" class=\"btn btn-sm btn-primary\" target=\"_blank\">Ampliar</a>\\n                                    </div>\\n                                    \\n                                </div>\\n                            </div>\\n                        </div>\\n                        \\n    \\n                    </div>\\n                </div>\\n            </div>\\n\\n    </section>\\n\\n</div>\\n    </aside>\\n\\n    <footer>\\n        \\n\\n<footer class=\"bg-light text-center text-dark mt-3\">\\n  <!-- Grid container -->\\n  <div class=\"container p-4\">\\n    <!-- Section: Social media -->\\n    <section class=\"mb-4 text-center\">\\n      <!-- Facebook -->\\n      <a class=\"btn btn-outline-dark btn-floating m-1\" href=\"https://www.facebook.com/profile.php?id=100076957515526\"\\n        target=\"_blank\" role=\"button\"><i class=\"fab fa-facebook-f\"></i></a>\\n      <!-- Google -->\\n      <a class=\"btn btn-outline-dark btn-floating m-1\" href=\"https://www.youtube.com/channel/UCnleYMKHYucRJUyv8az_WVw\"\\n        target=\"_blank\" role=\"button\"><i class=\"fab fa-youtube\"></i></a>\\n\\n      <!-- Instagram -->\\n      <a class=\"btn btn-outline-dark btn-floating m-1\" href=\"https://www.instagram.com/michellssgui/\" target=\"_blank\"\\n        role=\"button\"><i class=\"fab fa-instagram\"></i></a>\\n\\n      <!-- Linkedin -->\\n      <a class=\"btn btn-outline-dark btn-floating m-1\" href=\"https://www.linkedin.com/in/michelgui/\" target=\"_blank\"\\n        role=\"button\"><i class=\"fab fa-linkedin-in\"></i></a>\\n\\n      <!-- Github -->\\n      <a class=\"btn btn-outline-dark btn-floating m-1\" href=\"https://github.com/michellssgui22\" target=\"_blank\"\\n        role=\"button\"><i class=\"fab fa-github\"></i></a>\\n    </section>\\n    <!-- Section: Social media -->\\n\\n    <hr>\\n\\n    <!-- Section: Links -->\\n    <!--\\n      <section class=\"\">\\n      <div class=\"row\">\\n        <div class=\"col-lg-3 col-md-6 mb-4 mb-md-0\">\\n          <h5 class=\"text-uppercase\">Links</h5>\\n\\n          <ul class=\"list-unstyled mb-0\">\\n            <li>\\n              <a href=\"#!\" class=\"text-dark\">Link 1</a>\\n            </li>\\n            <li>\\n              <a href=\"#!\" class=\"text-dark\">Link 2</a>\\n            </li>\\n            <li>\\n              <a href=\"#!\" class=\"text-dark\">Link 3</a>\\n            </li>\\n            <li>\\n              <a href=\"#!\" class=\"text-dark\">Link 4</a>\\n            </li>\\n          </ul>\\n        </div>\\n        <div class=\"col-lg-3 col-md-6 mb-4 mb-md-0\">\\n          <h5 class=\"text-uppercase\">Links</h5>\\n\\n          <ul class=\"list-unstyled mb-0\">\\n            <li>\\n              <a href=\"#!\" class=\"text-dark\">Link 1</a>\\n            </li>\\n            <li>\\n              <a href=\"#!\" class=\"text-dark\">Link 2</a>\\n            </li>\\n            <li>\\n              <a href=\"#!\" class=\"text-dark\">Link 3</a>\\n            </li>\\n            <li>\\n              <a href=\"#!\" class=\"text-dark\">Link 4</a>\\n            </li>\\n          </ul>\\n        </div>\\n        <div class=\"col-lg-3 col-md-6 mb-4 mb-md-0\">\\n          <h5 class=\"text-uppercase\">Links</h5>\\n\\n          <ul class=\"list-unstyled mb-0\">\\n            <li>\\n              <a href=\"#!\" class=\"text-dark\">Link 1</a>\\n            </li>\\n            <li>\\n              <a href=\"#!\" class=\"text-dark\">Link 2</a>\\n            </li>\\n            <li>\\n              <a href=\"#!\" class=\"text-dark\">Link 3</a>\\n            </li>\\n            <li>\\n              <a href=\"#!\" class=\"text-dark\">Link 4</a>\\n            </li>\\n          </ul>\\n        </div>\\n        <div class=\"col-lg-3 col-md-6 mb-4 mb-md-0\">\\n          <h5 class=\"text-uppercase\">Links</h5>\\n\\n          <ul class=\"list-unstyled mb-0\">\\n            <li>\\n              <a href=\"#!\" class=\"text-dark\">Link 1</a>\\n            </li>\\n            <li>\\n              <a href=\"#!\" class=\"text-dark\">Link 2</a>\\n            </li>\\n            <li>\\n              <a href=\"#!\" class=\"text-dark\">Link 3</a>\\n            </li>\\n            <li>\\n              <a href=\"#!\" class=\"text-dark\">Link 4</a>\\n            </li>\\n          </ul>\\n        </div>\\n      </div>\\n    </section>\\n    -->\\n  </div>\\n  <!-- Grid container -->\\n\\n  <!-- Copyright -->\\n  <div class=\"text-center p-3\" style=\"background-color: rgba(0, 0, 0, 0.2);\">\\n    \\xc2\\xa9 2022 Copyright:\\n    <a class=\"text-dark\" href=\"/\">Michel Souza Santana</a>\\n  </div>\\n  <!-- Copyright -->\\n</footer>\\n    </footer>\\n\\n    <span id=\"fim\" class=\"navegacao\"></span>\\n\\n    <script src=\"https://cdnjs.cloudflare.com/ajax/libs/jquery/3.5.1/jquery.slim.min.js\"></script>\\n    <script src=\"https://cdnjs.cloudflare.com/ajax/libs/popper.js/1.16.1/umd/popper.min.js\"></script>\\n    <script src=\"https://cdnjs.cloudflare.com/ajax/libs/twitter-bootstrap/4.6.0/js/bootstrap.min.js\"></script>\\n\\n    <script crossorigin=\"anonymous\" integrity=\"sha384-ZvpUoO/+PpLXR1lu4jmpXWu80pZlYUAfxl5NsBMWOEPSjUn/6Z/hRTt8+pR6L4N2\" src=\"https://code.jquery.com/jquery-3.5.1.min.js\"></script>\\n    <script crossorigin=\"anonymous\" integrity=\"sha384-Fy6S3B9q64WdZWQUiU+q4/2Lc9npb8tCaSX9FK7E8HnRr0Jz8D6OP9dO5Vg3Q9ct\" src=\"https://cdn.jsdelivr.net/npm/bootstrap@4.6.2/dist/js/bootstrap.bundle.min.js\"></script>\\n    <script src=\"/static/assets/dist/js/bootstrap.bundle.min.js\"></script>\\n</body>\\n\\n</html>'\n"
     ]
    }
   ],
   "source": [
    "# Exemplo de consulta simples\n",
    "from urllib.request import urlopen\n",
    "\n",
    "html = urlopen('https://portifoliomss.herokuapp.com/')\n",
    "print(html.read())"
   ]
  },
  {
   "attachments": {},
   "cell_type": "markdown",
   "metadata": {},
   "source": [
    "> urllic é uma biblioteca padrão de Python, ela  contém funções para requisitar dados da web, tratando cookies e até mesmo modificando metadados como cabeçalhos e o agente de usuário.\n",
    "\n",
    "> Faremos uso dela durante todo o progresso dos estudos, caso advenha alguma dúvida que não explicada aqui nesse material, recomendo a leitura da documentação (https://docs.python.org/3/library/urllib.html)"
   ]
  },
  {
   "attachments": {},
   "cell_type": "markdown",
   "metadata": {},
   "source": [
    "### Introdução ao BeautifuylSoup\n",
    "\n",
    "Beautiful Soup é uma biblioteca Python de extração de dados de arquivos HTML e XML. Ela funciona com o seu interpretador (parser) favorito a fim de prover maneiras mais intuitivas de navegar, buscar e modificar uma árvore de análise (parse tree). Ela geralmente economiza horas ou dias de trabalho de programadores ao redor do mundo.\n",
    "\n",
    "Beautiful Soup foi iniciado por Leonard Richardson, que continua a contribuir para o projeto, e é adicionalmente apoiado pelo Tidelift, uma assinatura paga para manutenção de código aberto."
   ]
  },
  {
   "attachments": {},
   "cell_type": "markdown",
   "metadata": {},
   "source": [
    "### Como Instalar o BeautifulSoup\n",
    "Sendo que ao BeaultifulSoup não se trata de uma biblioteca Python default, precisarenmos realisar sua instalação manualmente.\n",
    "\n",
    "> pip install beautifulsoup4\n",
    "\n",
    "OBS:\n",
    "* Esse comando servirá tando no linux quanto no windows e mac, desde que tenha o \"pip\" instalado em sua máquina.\n",
    "* Recomento sempre que for lidar com instalação de pacotes, realiza-lo em uma VM, com python isso é possível fazendo uso do venv, entre outros."
   ]
  },
  {
   "attachments": {},
   "cell_type": "markdown",
   "metadata": {},
   "source": [
    "### Executando o BeautifulSoup\n"
   ]
  },
  {
   "cell_type": "code",
   "execution_count": 3,
   "metadata": {},
   "outputs": [
    {
     "ename": "ModuleNotFoundError",
     "evalue": "No module named 'bs4'",
     "output_type": "error",
     "traceback": [
      "\u001b[1;31m---------------------------------------------------------------------------\u001b[0m",
      "\u001b[1;31mModuleNotFoundError\u001b[0m                       Traceback (most recent call last)",
      "Cell \u001b[1;32mIn[3], line 2\u001b[0m\n\u001b[0;32m      1\u001b[0m \u001b[39mfrom\u001b[39;00m \u001b[39murllib\u001b[39;00m\u001b[39m.\u001b[39;00m\u001b[39mrequest\u001b[39;00m \u001b[39mimport\u001b[39;00m urlopen\n\u001b[1;32m----> 2\u001b[0m \u001b[39mfrom\u001b[39;00m \u001b[39mbs4\u001b[39;00m \u001b[39mimport\u001b[39;00m BeautifulSoup\n",
      "\u001b[1;31mModuleNotFoundError\u001b[0m: No module named 'bs4'"
     ]
    }
   ],
   "source": [
    "from urllib.request import urlopen\n",
    "from bs4 import BeautifulSoup"
   ]
  },
  {
   "attachments": {},
   "cell_type": "markdown",
   "metadata": {},
   "source": [
    "## Capítulo 2 - Parsing de HTML avançado"
   ]
  },
  {
   "attachments": {},
   "cell_type": "markdown",
   "metadata": {},
   "source": [
    "## Capítulo 3 - Escrevendo web crawlers"
   ]
  },
  {
   "attachments": {},
   "cell_type": "markdown",
   "metadata": {},
   "source": [
    "## Capítulo 4 - Modelos de web crawling"
   ]
  },
  {
   "attachments": {},
   "cell_type": "markdown",
   "metadata": {},
   "source": [
    "\n",
    "## Capítulo 5 - Scrapy"
   ]
  },
  {
   "attachments": {},
   "cell_type": "markdown",
   "metadata": {},
   "source": [
    "## Capítulo 6 - Armazenando dados"
   ]
  },
  {
   "attachments": {},
   "cell_type": "markdown",
   "metadata": {},
   "source": [
    "# Parte II - Coleta de dados avançada"
   ]
  },
  {
   "attachments": {},
   "cell_type": "markdown",
   "metadata": {},
   "source": [
    "## Capítulo 7 - Lendo documentos"
   ]
  },
  {
   "attachments": {},
   "cell_type": "markdown",
   "metadata": {},
   "source": [
    "## Capítulo 8 - Limpando dados sujos"
   ]
  },
  {
   "attachments": {},
   "cell_type": "markdown",
   "metadata": {},
   "source": [
    "## Capítulo 9 - Lendo e escrevendo em idiomas naturais"
   ]
  },
  {
   "attachments": {},
   "cell_type": "markdown",
   "metadata": {},
   "source": [
    "## Capítulo 10 - Rastreando formulários e logind"
   ]
  },
  {
   "attachments": {},
   "cell_type": "markdown",
   "metadata": {},
   "source": [
    "## Capítulo 11 - Scraping de JavaScript"
   ]
  },
  {
   "attachments": {},
   "cell_type": "markdown",
   "metadata": {},
   "source": [
    "## Capítulo 12 - Rastreando por meio de APIs"
   ]
  },
  {
   "attachments": {},
   "cell_type": "markdown",
   "metadata": {},
   "source": [
    "## Capítulo 13 - Processamento de imagens e reconhecimento de texto"
   ]
  },
  {
   "attachments": {},
   "cell_type": "markdown",
   "metadata": {},
   "source": [
    "## Capítulo 14 - Evitando armadilhas no scraping"
   ]
  },
  {
   "attachments": {},
   "cell_type": "markdown",
   "metadata": {},
   "source": [
    "## Capítulo 15 - Testando seu site com scrapers"
   ]
  },
  {
   "attachments": {},
   "cell_type": "markdown",
   "metadata": {},
   "source": [
    "## Capítulo 16 - Web Crawling em paralelo"
   ]
  },
  {
   "attachments": {},
   "cell_type": "markdown",
   "metadata": {},
   "source": [
    "## Capítulo 17 - Fazendo scraping remotamente"
   ]
  },
  {
   "attachments": {},
   "cell_type": "markdown",
   "metadata": {},
   "source": [
    "## Capítulo 18 - Aspectos legais e éticos do web scraping"
   ]
  },
  {
   "attachments": {},
   "cell_type": "markdown",
   "metadata": {},
   "source": [
    "* Sugesteão de exercícios: https://www.bing.com/videos/search?q=beautifulsoup+o+que+%c3%a9&docid=608045031797569533&mid=BF492088B1B13F9B6ABCBF492088B1B13F9B6ABC&view=detail&FORM=VIRE"
   ]
  }
 ],
 "metadata": {
  "kernelspec": {
   "display_name": "Python 3",
   "language": "python",
   "name": "python3"
  },
  "language_info": {
   "codemirror_mode": {
    "name": "ipython",
    "version": 3
   },
   "file_extension": ".py",
   "mimetype": "text/x-python",
   "name": "python",
   "nbconvert_exporter": "python",
   "pygments_lexer": "ipython3",
   "version": "3.11.1"
  },
  "orig_nbformat": 4,
  "vscode": {
   "interpreter": {
    "hash": "9abdc0c2807b123e4005642983fcedf9d8d22fe920ca45ef1fdbf566c6fd0327"
   }
  }
 },
 "nbformat": 4,
 "nbformat_minor": 2
}
