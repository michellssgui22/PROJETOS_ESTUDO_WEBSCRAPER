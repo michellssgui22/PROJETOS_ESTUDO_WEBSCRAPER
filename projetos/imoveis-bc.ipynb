{
 "cells": [
  {
   "attachments": {},
   "cell_type": "markdown",
   "metadata": {},
   "source": [
    "# Análise dos imoveis Balneário Camboriú\n",
    "## Michel Souza Santana\n",
    "### Data Science Student\n",
    "> Data: 16/01/2022"
   ]
  },
  {
   "cell_type": "code",
   "execution_count": 1192,
   "metadata": {},
   "outputs": [],
   "source": [
    "import pandas as pd\n",
    "import numpy as np\n",
    "from urllib.request import urlopen\n",
    "from bs4 import BeautifulSoup as bs"
   ]
  },
  {
   "cell_type": "code",
   "execution_count": 1193,
   "metadata": {},
   "outputs": [
    {
     "data": {
      "text/plain": [
       "[<a class=\"listing-card-2 max-400 w-inline-block\" href=\"/imoveis/apartamento-vista-para-o-mar-no-bairro-pioneiros-bc\"><div class=\"listing-2-card-top\"><img alt=\"\" class=\"listing-card-2-photo\" height=\"400\" loading=\"lazy\" sizes=\"(max-width: 479px) 88vw, (max-width: 991px) 380px, (max-width: 1439px) 28vw, 400px\" src=\"https://uploads-ssl.webflow.com/629007f9f06b5eda2376045d/62c08d480babd5d5c5bd6b72_7.jpg\" srcset=\"https://uploads-ssl.webflow.com/629007f9f06b5eda2376045d/62c08d480babd5d5c5bd6b72_7-p-500.jpeg 500w, https://uploads-ssl.webflow.com/629007f9f06b5eda2376045d/62c08d480babd5d5c5bd6b72_7-p-800.jpeg 800w, https://uploads-ssl.webflow.com/629007f9f06b5eda2376045d/62c08d480babd5d5c5bd6b72_7-p-1080.jpeg 1080w, https://uploads-ssl.webflow.com/629007f9f06b5eda2376045d/62c08d480babd5d5c5bd6b72_7.jpg 1280w\" width=\"400\"/><div class=\"listing-2-price\"><div class=\"listing-2-price-text\">R$ 7.400.000</div></div></div><div class=\"listing-content-2\"><div><div class=\"text-medium cod-imovel\">#AP0242-BEML</div><div class=\"text-large\">Apartamento com Vista Mar no Bairro Pioneiros, BC</div><div class=\"text-medium margin-top-4\">Pioneiros, Balneário Camboriú - SC</div><div class=\"listing-2-card-features\"><div class=\"features first-item\"><div class=\"text-medium\">3 Suítes</div></div><div class=\"features first-item\"><div class=\"text-medium\">4 Banheiros</div></div><div class=\"features first-item\"><div class=\"text-medium w-dyn-bind-empty\"></div></div></div></div></div></a>,\n",
       " <a class=\"listing-card-2 max-400 w-inline-block\" href=\"/imoveis/apartamento-no-diamond-crystal-tower-centro-de-balneario-camboriu\"><div class=\"listing-2-card-top\"><img alt=\"\" class=\"listing-card-2-photo\" height=\"400\" loading=\"lazy\" sizes=\"(max-width: 479px) 88vw, (max-width: 991px) 380px, (max-width: 1439px) 28vw, 400px\" src=\"https://uploads-ssl.webflow.com/629007f9f06b5eda2376045d/637643830d31676f4005d42a_05-EXTERNA-APROXIMADA.jpg\" srcset=\"https://uploads-ssl.webflow.com/629007f9f06b5eda2376045d/637643830d31676f4005d42a_05-EXTERNA-APROXIMADA-p-500.jpg 500w, https://uploads-ssl.webflow.com/629007f9f06b5eda2376045d/637643830d31676f4005d42a_05-EXTERNA-APROXIMADA-p-800.jpg 800w, https://uploads-ssl.webflow.com/629007f9f06b5eda2376045d/637643830d31676f4005d42a_05-EXTERNA-APROXIMADA-p-1080.jpg 1080w, https://uploads-ssl.webflow.com/629007f9f06b5eda2376045d/637643830d31676f4005d42a_05-EXTERNA-APROXIMADA-p-1600.jpg 1600w, https://uploads-ssl.webflow.com/629007f9f06b5eda2376045d/637643830d31676f4005d42a_05-EXTERNA-APROXIMADA.jpg 1920w\" width=\"400\"/><div class=\"listing-2-price\"><div class=\"listing-2-price-text\">R$ 2.989.188,00</div></div></div><div class=\"listing-content-2\"><div><div class=\"text-medium cod-imovel\">#AP0159-BEML</div><div class=\"text-large\">Apartamento no Diamond Crystal Tower, Centro de Balneário Camboriú</div><div class=\"text-medium margin-top-4\">Rua 1201, 432. Centro - Balneário Camboriú</div><div class=\"listing-2-card-features\"><div class=\"features first-item\"><div class=\"text-medium\">4 Suítes</div></div><div class=\"features first-item\"><div class=\"text-medium w-dyn-bind-empty\"></div></div><div class=\"features first-item\"><div class=\"text-medium\">173,79m²</div></div></div></div></div></a>]"
      ]
     },
     "execution_count": 1193,
     "metadata": {},
     "output_type": "execute_result"
    }
   ],
   "source": [
    "html = urlopen('https://www.tresas.com.br/todos-os-imoveis')\n",
    "cf = bs(html.read(), 'html.parser')\n",
    "dados_imoveis = cf.findAll('a', {'class': 'listing-card-2 max-400 w-inline-block'})\n",
    "dados_imoveis[:2]"
   ]
  },
  {
   "cell_type": "code",
   "execution_count": 1194,
   "metadata": {},
   "outputs": [],
   "source": [
    "imoveis = []\n",
    "for dados in dados_imoveis:\n",
    "    novos_dados = []\n",
    "    novos_dados.append(dados.find('div', {'class': 'text-large'})) #descrição\n",
    "    novos_dados.append(dados.find('div', {'class': 'listing-2-price-text'})) #preço\n",
    "    novos_dados.append(dados.find('div', {'class': 'text-medium margin-top-4'})) #localização\n",
    "    novos_dados.append(dados.find('div', {'class': 'listing-2-card-features'})) #caracteristicas do imóvel\n",
    "    novos_dados.append(dados.img['src']) #link imagem\n",
    "    imoveis.append(novos_dados)"
   ]
  },
  {
   "cell_type": "code",
   "execution_count": 1195,
   "metadata": {},
   "outputs": [
    {
     "data": {
      "text/html": [
       "<div>\n",
       "<style scoped>\n",
       "    .dataframe tbody tr th:only-of-type {\n",
       "        vertical-align: middle;\n",
       "    }\n",
       "\n",
       "    .dataframe tbody tr th {\n",
       "        vertical-align: top;\n",
       "    }\n",
       "\n",
       "    .dataframe thead th {\n",
       "        text-align: right;\n",
       "    }\n",
       "</style>\n",
       "<table border=\"1\" class=\"dataframe\">\n",
       "  <thead>\n",
       "    <tr style=\"text-align: right;\">\n",
       "      <th></th>\n",
       "      <th>descricao_do_imovel</th>\n",
       "      <th>preco</th>\n",
       "      <th>localizacao</th>\n",
       "      <th>caracteristicas_do_imovel</th>\n",
       "      <th>link_da_imagem</th>\n",
       "    </tr>\n",
       "  </thead>\n",
       "  <tbody>\n",
       "    <tr>\n",
       "      <th>0</th>\n",
       "      <td>[Apartamento com Vista Mar no Bairro Pioneiros...</td>\n",
       "      <td>[R$ 7.400.000]</td>\n",
       "      <td>[Pioneiros, Balneário Camboriú - SC]</td>\n",
       "      <td>[[[3 Suítes]], [[4 Banheiros]], [[]]]</td>\n",
       "      <td>https://uploads-ssl.webflow.com/629007f9f06b5e...</td>\n",
       "    </tr>\n",
       "    <tr>\n",
       "      <th>1</th>\n",
       "      <td>[Apartamento no Diamond Crystal Tower, Centro ...</td>\n",
       "      <td>[R$ 2.989.188,00]</td>\n",
       "      <td>[Rua 1201, 432. Centro - Balneário Camboriú]</td>\n",
       "      <td>[[[4 Suítes]], [[]], [[173,79m²]]]</td>\n",
       "      <td>https://uploads-ssl.webflow.com/629007f9f06b5e...</td>\n",
       "    </tr>\n",
       "    <tr>\n",
       "      <th>2</th>\n",
       "      <td>[Terreno à venda em São Judas, Itajaí ]</td>\n",
       "      <td>[R$ 1.830.000,00]</td>\n",
       "      <td>[Sao Judas, Itajaí - SC]</td>\n",
       "      <td>[[[]], [[]], [[]]]</td>\n",
       "      <td>https://uploads-ssl.webflow.com/629007f9f06b5e...</td>\n",
       "    </tr>\n",
       "    <tr>\n",
       "      <th>3</th>\n",
       "      <td>[Apartamento com vista panorâmica e 3 suítes n...</td>\n",
       "      <td>[R$ 6.341.183,87]</td>\n",
       "      <td>[Praia Brava, Itajaí - SC]</td>\n",
       "      <td>[[[3 Suítes]], [[3 Banheiros]], [[168m² Área P...</td>\n",
       "      <td>https://uploads-ssl.webflow.com/629007f9f06b5e...</td>\n",
       "    </tr>\n",
       "    <tr>\n",
       "      <th>4</th>\n",
       "      <td>[Apartamento com 3 dormitórios sendo 2 suítes,...</td>\n",
       "      <td>[R$ 3.400.000]</td>\n",
       "      <td>[Centro, Balneário Camboriú - SC]</td>\n",
       "      <td>[[[1 Suíte]], [[2 Banheiros]], [[110m² Área Pr...</td>\n",
       "      <td>https://uploads-ssl.webflow.com/629007f9f06b5e...</td>\n",
       "    </tr>\n",
       "  </tbody>\n",
       "</table>\n",
       "</div>"
      ],
      "text/plain": [
       "                                 descricao_do_imovel              preco  \\\n",
       "0  [Apartamento com Vista Mar no Bairro Pioneiros...     [R$ 7.400.000]   \n",
       "1  [Apartamento no Diamond Crystal Tower, Centro ...  [R$ 2.989.188,00]   \n",
       "2            [Terreno à venda em São Judas, Itajaí ]  [R$ 1.830.000,00]   \n",
       "3  [Apartamento com vista panorâmica e 3 suítes n...  [R$ 6.341.183,87]   \n",
       "4  [Apartamento com 3 dormitórios sendo 2 suítes,...     [R$ 3.400.000]   \n",
       "\n",
       "                                    localizacao  \\\n",
       "0          [Pioneiros, Balneário Camboriú - SC]   \n",
       "1  [Rua 1201, 432. Centro - Balneário Camboriú]   \n",
       "2                      [Sao Judas, Itajaí - SC]   \n",
       "3                    [Praia Brava, Itajaí - SC]   \n",
       "4             [Centro, Balneário Camboriú - SC]   \n",
       "\n",
       "                           caracteristicas_do_imovel  \\\n",
       "0              [[[3 Suítes]], [[4 Banheiros]], [[]]]   \n",
       "1                 [[[4 Suítes]], [[]], [[173,79m²]]]   \n",
       "2                                 [[[]], [[]], [[]]]   \n",
       "3  [[[3 Suítes]], [[3 Banheiros]], [[168m² Área P...   \n",
       "4  [[[1 Suíte]], [[2 Banheiros]], [[110m² Área Pr...   \n",
       "\n",
       "                                      link_da_imagem  \n",
       "0  https://uploads-ssl.webflow.com/629007f9f06b5e...  \n",
       "1  https://uploads-ssl.webflow.com/629007f9f06b5e...  \n",
       "2  https://uploads-ssl.webflow.com/629007f9f06b5e...  \n",
       "3  https://uploads-ssl.webflow.com/629007f9f06b5e...  \n",
       "4  https://uploads-ssl.webflow.com/629007f9f06b5e...  "
      ]
     },
     "execution_count": 1195,
     "metadata": {},
     "output_type": "execute_result"
    }
   ],
   "source": [
    "imoveis_df = pd.DataFrame(imoveis, columns=['descricao_do_imovel', 'preco', 'localizacao', 'caracteristicas_do_imovel', 'link_da_imagem']) \n",
    "imoveis_df.head()"
   ]
  },
  {
   "attachments": {},
   "cell_type": "markdown",
   "metadata": {},
   "source": [
    "## Iniciando o processo de limpeza , tratamento e anlise dos dados"
   ]
  },
  {
   "cell_type": "code",
   "execution_count": 1196,
   "metadata": {},
   "outputs": [
    {
     "data": {
      "text/plain": [
       "(69, 5)"
      ]
     },
     "execution_count": 1196,
     "metadata": {},
     "output_type": "execute_result"
    }
   ],
   "source": [
    "df = imoveis_df\n",
    "df.shape"
   ]
  },
  {
   "cell_type": "code",
   "execution_count": 1197,
   "metadata": {},
   "outputs": [
    {
     "data": {
      "text/plain": [
       "(69, 5)"
      ]
     },
     "execution_count": 1197,
     "metadata": {},
     "output_type": "execute_result"
    }
   ],
   "source": [
    "df.dropna(inplace = True)\n",
    "df.shape"
   ]
  },
  {
   "cell_type": "code",
   "execution_count": 1198,
   "metadata": {},
   "outputs": [
    {
     "data": {
      "text/plain": [
       "345"
      ]
     },
     "execution_count": 1198,
     "metadata": {},
     "output_type": "execute_result"
    }
   ],
   "source": [
    "df.size"
   ]
  },
  {
   "cell_type": "code",
   "execution_count": 1199,
   "metadata": {},
   "outputs": [
    {
     "data": {
      "text/plain": [
       "descricao_do_imovel          object\n",
       "preco                        object\n",
       "localizacao                  object\n",
       "caracteristicas_do_imovel    object\n",
       "link_da_imagem               object\n",
       "dtype: object"
      ]
     },
     "execution_count": 1199,
     "metadata": {},
     "output_type": "execute_result"
    }
   ],
   "source": [
    "df.dtypes"
   ]
  },
  {
   "cell_type": "code",
   "execution_count": 1200,
   "metadata": {},
   "outputs": [
    {
     "data": {
      "text/html": [
       "<div>\n",
       "<style scoped>\n",
       "    .dataframe tbody tr th:only-of-type {\n",
       "        vertical-align: middle;\n",
       "    }\n",
       "\n",
       "    .dataframe tbody tr th {\n",
       "        vertical-align: top;\n",
       "    }\n",
       "\n",
       "    .dataframe thead th {\n",
       "        text-align: right;\n",
       "    }\n",
       "</style>\n",
       "<table border=\"1\" class=\"dataframe\">\n",
       "  <thead>\n",
       "    <tr style=\"text-align: right;\">\n",
       "      <th></th>\n",
       "      <th>descricao_do_imovel</th>\n",
       "      <th>preco</th>\n",
       "      <th>localizacao</th>\n",
       "      <th>caracteristicas_do_imovel</th>\n",
       "      <th>link_da_imagem</th>\n",
       "    </tr>\n",
       "  </thead>\n",
       "  <tbody>\n",
       "    <tr>\n",
       "      <th>0</th>\n",
       "      <td>[Apartamento com Vista Mar no Bairro Pioneiros...</td>\n",
       "      <td>[R$ 7.400.000]</td>\n",
       "      <td>[Pioneiros, Balneário Camboriú - SC]</td>\n",
       "      <td>[[[3 Suítes]], [[4 Banheiros]], [[]]]</td>\n",
       "      <td>https://uploads-ssl.webflow.com/629007f9f06b5e...</td>\n",
       "    </tr>\n",
       "    <tr>\n",
       "      <th>1</th>\n",
       "      <td>[Apartamento no Diamond Crystal Tower, Centro ...</td>\n",
       "      <td>[R$ 2.989.188,00]</td>\n",
       "      <td>[Rua 1201, 432. Centro - Balneário Camboriú]</td>\n",
       "      <td>[[[4 Suítes]], [[]], [[173,79m²]]]</td>\n",
       "      <td>https://uploads-ssl.webflow.com/629007f9f06b5e...</td>\n",
       "    </tr>\n",
       "    <tr>\n",
       "      <th>2</th>\n",
       "      <td>[Terreno à venda em São Judas, Itajaí ]</td>\n",
       "      <td>[R$ 1.830.000,00]</td>\n",
       "      <td>[Sao Judas, Itajaí - SC]</td>\n",
       "      <td>[[[]], [[]], [[]]]</td>\n",
       "      <td>https://uploads-ssl.webflow.com/629007f9f06b5e...</td>\n",
       "    </tr>\n",
       "    <tr>\n",
       "      <th>3</th>\n",
       "      <td>[Apartamento com vista panorâmica e 3 suítes n...</td>\n",
       "      <td>[R$ 6.341.183,87]</td>\n",
       "      <td>[Praia Brava, Itajaí - SC]</td>\n",
       "      <td>[[[3 Suítes]], [[3 Banheiros]], [[168m² Área P...</td>\n",
       "      <td>https://uploads-ssl.webflow.com/629007f9f06b5e...</td>\n",
       "    </tr>\n",
       "    <tr>\n",
       "      <th>4</th>\n",
       "      <td>[Apartamento com 3 dormitórios sendo 2 suítes,...</td>\n",
       "      <td>[R$ 3.400.000]</td>\n",
       "      <td>[Centro, Balneário Camboriú - SC]</td>\n",
       "      <td>[[[1 Suíte]], [[2 Banheiros]], [[110m² Área Pr...</td>\n",
       "      <td>https://uploads-ssl.webflow.com/629007f9f06b5e...</td>\n",
       "    </tr>\n",
       "  </tbody>\n",
       "</table>\n",
       "</div>"
      ],
      "text/plain": [
       "                                 descricao_do_imovel              preco  \\\n",
       "0  [Apartamento com Vista Mar no Bairro Pioneiros...     [R$ 7.400.000]   \n",
       "1  [Apartamento no Diamond Crystal Tower, Centro ...  [R$ 2.989.188,00]   \n",
       "2            [Terreno à venda em São Judas, Itajaí ]  [R$ 1.830.000,00]   \n",
       "3  [Apartamento com vista panorâmica e 3 suítes n...  [R$ 6.341.183,87]   \n",
       "4  [Apartamento com 3 dormitórios sendo 2 suítes,...     [R$ 3.400.000]   \n",
       "\n",
       "                                    localizacao  \\\n",
       "0          [Pioneiros, Balneário Camboriú - SC]   \n",
       "1  [Rua 1201, 432. Centro - Balneário Camboriú]   \n",
       "2                      [Sao Judas, Itajaí - SC]   \n",
       "3                    [Praia Brava, Itajaí - SC]   \n",
       "4             [Centro, Balneário Camboriú - SC]   \n",
       "\n",
       "                           caracteristicas_do_imovel  \\\n",
       "0              [[[3 Suítes]], [[4 Banheiros]], [[]]]   \n",
       "1                 [[[4 Suítes]], [[]], [[173,79m²]]]   \n",
       "2                                 [[[]], [[]], [[]]]   \n",
       "3  [[[3 Suítes]], [[3 Banheiros]], [[168m² Área P...   \n",
       "4  [[[1 Suíte]], [[2 Banheiros]], [[110m² Área Pr...   \n",
       "\n",
       "                                      link_da_imagem  \n",
       "0  https://uploads-ssl.webflow.com/629007f9f06b5e...  \n",
       "1  https://uploads-ssl.webflow.com/629007f9f06b5e...  \n",
       "2  https://uploads-ssl.webflow.com/629007f9f06b5e...  \n",
       "3  https://uploads-ssl.webflow.com/629007f9f06b5e...  \n",
       "4  https://uploads-ssl.webflow.com/629007f9f06b5e...  "
      ]
     },
     "execution_count": 1200,
     "metadata": {},
     "output_type": "execute_result"
    }
   ],
   "source": [
    "#Eliminando couchetes dos dados\n",
    "df.head()"
   ]
  },
  {
   "cell_type": "code",
   "execution_count": 1201,
   "metadata": {},
   "outputs": [],
   "source": [
    "df = df.astype(str)"
   ]
  },
  {
   "cell_type": "code",
   "execution_count": 1202,
   "metadata": {},
   "outputs": [
    {
     "data": {
      "text/plain": [
       "'<div class=\"text-large\">Apartamento com Vista Mar no Bairro Pioneiros, BC</div>'"
      ]
     },
     "execution_count": 1202,
     "metadata": {},
     "output_type": "execute_result"
    }
   ],
   "source": [
    "df['descricao_do_imovel'][0]"
   ]
  },
  {
   "cell_type": "code",
   "execution_count": 1203,
   "metadata": {},
   "outputs": [],
   "source": [
    "df['descricao_do_imovel'] = df['descricao_do_imovel'].str.replace('<div class=\"text-large\">','')\n",
    "df['descricao_do_imovel'] = df['descricao_do_imovel'].str.replace(', BC','')\n",
    "df['descricao_do_imovel'] = df['descricao_do_imovel'].str.replace('</div>','')\n",
    "df['preco'] = df['preco'].str.replace('<div class=\"listing-2-price-text\">','')\n",
    "df['preco'] = df['preco'].str.replace('</div>','')\n",
    "df['localizacao'] = df['localizacao'].str.replace('<div class=\"text-medium margin-top-4\">','')\n",
    "df['localizacao'] = df['localizacao'].str.replace('</div>','')\n",
    "df['caracteristicas_do_imovel'] = df['caracteristicas_do_imovel'].str.replace('<div class=\"listing-2-card-features\">','')\n",
    "df['caracteristicas_do_imovel'] = df['caracteristicas_do_imovel'].str.replace('</div>','')\n",
    "df['caracteristicas_do_imovel'] = df['caracteristicas_do_imovel'].str.replace('<div class=\"features first-item\">','')\n",
    "df['caracteristicas_do_imovel'] = df['caracteristicas_do_imovel'].str.replace('</div>','')\n",
    "df['caracteristicas_do_imovel'] = df['caracteristicas_do_imovel'].str.replace('<div class=\"text-medium\">','/')\n",
    "df['caracteristicas_do_imovel'] = df['caracteristicas_do_imovel'].str.replace('</div>','')\n",
    "df['caracteristicas_do_imovel'] = df['caracteristicas_do_imovel'].str.replace('<div class=\"text-medium w-dyn-bind-empty\">','/')\n",
    "df['caracteristicas_do_imovel'] = df['caracteristicas_do_imovel'].str.replace('</div>','')"
   ]
  },
  {
   "cell_type": "code",
   "execution_count": 1204,
   "metadata": {},
   "outputs": [
    {
     "data": {
      "text/html": [
       "<div>\n",
       "<style scoped>\n",
       "    .dataframe tbody tr th:only-of-type {\n",
       "        vertical-align: middle;\n",
       "    }\n",
       "\n",
       "    .dataframe tbody tr th {\n",
       "        vertical-align: top;\n",
       "    }\n",
       "\n",
       "    .dataframe thead th {\n",
       "        text-align: right;\n",
       "    }\n",
       "</style>\n",
       "<table border=\"1\" class=\"dataframe\">\n",
       "  <thead>\n",
       "    <tr style=\"text-align: right;\">\n",
       "      <th></th>\n",
       "      <th>descricao_do_imovel</th>\n",
       "      <th>preco</th>\n",
       "      <th>localizacao</th>\n",
       "      <th>caracteristicas_do_imovel</th>\n",
       "      <th>link_da_imagem</th>\n",
       "    </tr>\n",
       "  </thead>\n",
       "  <tbody>\n",
       "    <tr>\n",
       "      <th>0</th>\n",
       "      <td>Apartamento com Vista Mar no Bairro Pioneiros</td>\n",
       "      <td>R$ 7.400.000</td>\n",
       "      <td>Pioneiros, Balneário Camboriú - SC</td>\n",
       "      <td>/3 Suítes/4 Banheiros/</td>\n",
       "      <td>https://uploads-ssl.webflow.com/629007f9f06b5e...</td>\n",
       "    </tr>\n",
       "    <tr>\n",
       "      <th>1</th>\n",
       "      <td>Apartamento no Diamond Crystal Tower, Centro d...</td>\n",
       "      <td>R$ 2.989.188,00</td>\n",
       "      <td>Rua 1201, 432. Centro - Balneário Camboriú</td>\n",
       "      <td>/4 Suítes//173,79m²</td>\n",
       "      <td>https://uploads-ssl.webflow.com/629007f9f06b5e...</td>\n",
       "    </tr>\n",
       "    <tr>\n",
       "      <th>2</th>\n",
       "      <td>Terreno à venda em São Judas, Itajaí</td>\n",
       "      <td>R$ 1.830.000,00</td>\n",
       "      <td>Sao Judas, Itajaí - SC</td>\n",
       "      <td>///</td>\n",
       "      <td>https://uploads-ssl.webflow.com/629007f9f06b5e...</td>\n",
       "    </tr>\n",
       "    <tr>\n",
       "      <th>3</th>\n",
       "      <td>Apartamento com vista panorâmica e 3 suítes na...</td>\n",
       "      <td>R$ 6.341.183,87</td>\n",
       "      <td>Praia Brava, Itajaí - SC</td>\n",
       "      <td>/3 Suítes/3 Banheiros/168m² Área Privativa</td>\n",
       "      <td>https://uploads-ssl.webflow.com/629007f9f06b5e...</td>\n",
       "    </tr>\n",
       "    <tr>\n",
       "      <th>4</th>\n",
       "      <td>Apartamento com 3 dormitórios sendo 2 suítes, ...</td>\n",
       "      <td>R$ 3.400.000</td>\n",
       "      <td>Centro, Balneário Camboriú - SC</td>\n",
       "      <td>/1 Suíte/2 Banheiros/110m² Área Privativa</td>\n",
       "      <td>https://uploads-ssl.webflow.com/629007f9f06b5e...</td>\n",
       "    </tr>\n",
       "  </tbody>\n",
       "</table>\n",
       "</div>"
      ],
      "text/plain": [
       "                                 descricao_do_imovel            preco  \\\n",
       "0      Apartamento com Vista Mar no Bairro Pioneiros     R$ 7.400.000   \n",
       "1  Apartamento no Diamond Crystal Tower, Centro d...  R$ 2.989.188,00   \n",
       "2              Terreno à venda em São Judas, Itajaí   R$ 1.830.000,00   \n",
       "3  Apartamento com vista panorâmica e 3 suítes na...  R$ 6.341.183,87   \n",
       "4  Apartamento com 3 dormitórios sendo 2 suítes, ...     R$ 3.400.000   \n",
       "\n",
       "                                  localizacao  \\\n",
       "0          Pioneiros, Balneário Camboriú - SC   \n",
       "1  Rua 1201, 432. Centro - Balneário Camboriú   \n",
       "2                      Sao Judas, Itajaí - SC   \n",
       "3                    Praia Brava, Itajaí - SC   \n",
       "4             Centro, Balneário Camboriú - SC   \n",
       "\n",
       "                    caracteristicas_do_imovel  \\\n",
       "0                      /3 Suítes/4 Banheiros/   \n",
       "1                         /4 Suítes//173,79m²   \n",
       "2                                         ///   \n",
       "3  /3 Suítes/3 Banheiros/168m² Área Privativa   \n",
       "4   /1 Suíte/2 Banheiros/110m² Área Privativa   \n",
       "\n",
       "                                      link_da_imagem  \n",
       "0  https://uploads-ssl.webflow.com/629007f9f06b5e...  \n",
       "1  https://uploads-ssl.webflow.com/629007f9f06b5e...  \n",
       "2  https://uploads-ssl.webflow.com/629007f9f06b5e...  \n",
       "3  https://uploads-ssl.webflow.com/629007f9f06b5e...  \n",
       "4  https://uploads-ssl.webflow.com/629007f9f06b5e...  "
      ]
     },
     "execution_count": 1204,
     "metadata": {},
     "output_type": "execute_result"
    }
   ],
   "source": [
    "df.head()"
   ]
  },
  {
   "cell_type": "code",
   "execution_count": 1205,
   "metadata": {},
   "outputs": [
    {
     "name": "stderr",
     "output_type": "stream",
     "text": [
      "/tmp/ipykernel_47736/3507475529.py:1: FutureWarning: The default value of regex will change from True to False in a future version.\n",
      "  df['preco'] = df['preco'].str.replace('[R$ ]','')\n"
     ]
    }
   ],
   "source": [
    "df['preco'] = df['preco'].str.replace('[R$ ]','')"
   ]
  },
  {
   "cell_type": "code",
   "execution_count": 1206,
   "metadata": {},
   "outputs": [
    {
     "data": {
      "text/html": [
       "<div>\n",
       "<style scoped>\n",
       "    .dataframe tbody tr th:only-of-type {\n",
       "        vertical-align: middle;\n",
       "    }\n",
       "\n",
       "    .dataframe tbody tr th {\n",
       "        vertical-align: top;\n",
       "    }\n",
       "\n",
       "    .dataframe thead th {\n",
       "        text-align: right;\n",
       "    }\n",
       "</style>\n",
       "<table border=\"1\" class=\"dataframe\">\n",
       "  <thead>\n",
       "    <tr style=\"text-align: right;\">\n",
       "      <th></th>\n",
       "      <th>descricao_do_imovel</th>\n",
       "      <th>preco</th>\n",
       "      <th>localizacao</th>\n",
       "      <th>caracteristicas_do_imovel</th>\n",
       "      <th>link_da_imagem</th>\n",
       "    </tr>\n",
       "  </thead>\n",
       "  <tbody>\n",
       "    <tr>\n",
       "      <th>0</th>\n",
       "      <td>Apartamento com Vista Mar no Bairro Pioneiros</td>\n",
       "      <td>7.400.000</td>\n",
       "      <td>Pioneiros, Balneário Camboriú - SC</td>\n",
       "      <td>/3 Suítes/4 Banheiros/</td>\n",
       "      <td>https://uploads-ssl.webflow.com/629007f9f06b5e...</td>\n",
       "    </tr>\n",
       "    <tr>\n",
       "      <th>1</th>\n",
       "      <td>Apartamento no Diamond Crystal Tower, Centro d...</td>\n",
       "      <td>2.989.188,00</td>\n",
       "      <td>Rua 1201, 432. Centro - Balneário Camboriú</td>\n",
       "      <td>/4 Suítes//173,79m²</td>\n",
       "      <td>https://uploads-ssl.webflow.com/629007f9f06b5e...</td>\n",
       "    </tr>\n",
       "    <tr>\n",
       "      <th>2</th>\n",
       "      <td>Terreno à venda em São Judas, Itajaí</td>\n",
       "      <td>1.830.000,00</td>\n",
       "      <td>Sao Judas, Itajaí - SC</td>\n",
       "      <td>///</td>\n",
       "      <td>https://uploads-ssl.webflow.com/629007f9f06b5e...</td>\n",
       "    </tr>\n",
       "    <tr>\n",
       "      <th>3</th>\n",
       "      <td>Apartamento com vista panorâmica e 3 suítes na...</td>\n",
       "      <td>6.341.183,87</td>\n",
       "      <td>Praia Brava, Itajaí - SC</td>\n",
       "      <td>/3 Suítes/3 Banheiros/168m² Área Privativa</td>\n",
       "      <td>https://uploads-ssl.webflow.com/629007f9f06b5e...</td>\n",
       "    </tr>\n",
       "    <tr>\n",
       "      <th>4</th>\n",
       "      <td>Apartamento com 3 dormitórios sendo 2 suítes, ...</td>\n",
       "      <td>3.400.000</td>\n",
       "      <td>Centro, Balneário Camboriú - SC</td>\n",
       "      <td>/1 Suíte/2 Banheiros/110m² Área Privativa</td>\n",
       "      <td>https://uploads-ssl.webflow.com/629007f9f06b5e...</td>\n",
       "    </tr>\n",
       "  </tbody>\n",
       "</table>\n",
       "</div>"
      ],
      "text/plain": [
       "                                 descricao_do_imovel         preco  \\\n",
       "0      Apartamento com Vista Mar no Bairro Pioneiros     7.400.000   \n",
       "1  Apartamento no Diamond Crystal Tower, Centro d...  2.989.188,00   \n",
       "2              Terreno à venda em São Judas, Itajaí   1.830.000,00   \n",
       "3  Apartamento com vista panorâmica e 3 suítes na...  6.341.183,87   \n",
       "4  Apartamento com 3 dormitórios sendo 2 suítes, ...     3.400.000   \n",
       "\n",
       "                                  localizacao  \\\n",
       "0          Pioneiros, Balneário Camboriú - SC   \n",
       "1  Rua 1201, 432. Centro - Balneário Camboriú   \n",
       "2                      Sao Judas, Itajaí - SC   \n",
       "3                    Praia Brava, Itajaí - SC   \n",
       "4             Centro, Balneário Camboriú - SC   \n",
       "\n",
       "                    caracteristicas_do_imovel  \\\n",
       "0                      /3 Suítes/4 Banheiros/   \n",
       "1                         /4 Suítes//173,79m²   \n",
       "2                                         ///   \n",
       "3  /3 Suítes/3 Banheiros/168m² Área Privativa   \n",
       "4   /1 Suíte/2 Banheiros/110m² Área Privativa   \n",
       "\n",
       "                                      link_da_imagem  \n",
       "0  https://uploads-ssl.webflow.com/629007f9f06b5e...  \n",
       "1  https://uploads-ssl.webflow.com/629007f9f06b5e...  \n",
       "2  https://uploads-ssl.webflow.com/629007f9f06b5e...  \n",
       "3  https://uploads-ssl.webflow.com/629007f9f06b5e...  \n",
       "4  https://uploads-ssl.webflow.com/629007f9f06b5e...  "
      ]
     },
     "execution_count": 1206,
     "metadata": {},
     "output_type": "execute_result"
    }
   ],
   "source": [
    "df.head()"
   ]
  },
  {
   "cell_type": "code",
   "execution_count": 1207,
   "metadata": {},
   "outputs": [],
   "source": [
    "new = df['caracteristicas_do_imovel'].str.split(\"/\", expand=True)\n",
    "df['suites'] = new[1]\n",
    "df['banheiros'] = new[2]\n",
    "df['area_m2'] = new[3]\n",
    "df.drop(columns=['caracteristicas_do_imovel'], inplace=True)"
   ]
  },
  {
   "cell_type": "code",
   "execution_count": 1208,
   "metadata": {},
   "outputs": [
    {
     "data": {
      "text/html": [
       "<div>\n",
       "<style scoped>\n",
       "    .dataframe tbody tr th:only-of-type {\n",
       "        vertical-align: middle;\n",
       "    }\n",
       "\n",
       "    .dataframe tbody tr th {\n",
       "        vertical-align: top;\n",
       "    }\n",
       "\n",
       "    .dataframe thead th {\n",
       "        text-align: right;\n",
       "    }\n",
       "</style>\n",
       "<table border=\"1\" class=\"dataframe\">\n",
       "  <thead>\n",
       "    <tr style=\"text-align: right;\">\n",
       "      <th></th>\n",
       "      <th>descricao_do_imovel</th>\n",
       "      <th>preco</th>\n",
       "      <th>localizacao</th>\n",
       "      <th>link_da_imagem</th>\n",
       "      <th>suites</th>\n",
       "      <th>banheiros</th>\n",
       "      <th>area_m2</th>\n",
       "    </tr>\n",
       "  </thead>\n",
       "  <tbody>\n",
       "    <tr>\n",
       "      <th>0</th>\n",
       "      <td>Apartamento com Vista Mar no Bairro Pioneiros</td>\n",
       "      <td>7.400.000</td>\n",
       "      <td>Pioneiros, Balneário Camboriú - SC</td>\n",
       "      <td>https://uploads-ssl.webflow.com/629007f9f06b5e...</td>\n",
       "      <td>3 Suítes</td>\n",
       "      <td>4 Banheiros</td>\n",
       "      <td></td>\n",
       "    </tr>\n",
       "    <tr>\n",
       "      <th>1</th>\n",
       "      <td>Apartamento no Diamond Crystal Tower, Centro d...</td>\n",
       "      <td>2.989.188,00</td>\n",
       "      <td>Rua 1201, 432. Centro - Balneário Camboriú</td>\n",
       "      <td>https://uploads-ssl.webflow.com/629007f9f06b5e...</td>\n",
       "      <td>4 Suítes</td>\n",
       "      <td></td>\n",
       "      <td>173,79m²</td>\n",
       "    </tr>\n",
       "    <tr>\n",
       "      <th>2</th>\n",
       "      <td>Terreno à venda em São Judas, Itajaí</td>\n",
       "      <td>1.830.000,00</td>\n",
       "      <td>Sao Judas, Itajaí - SC</td>\n",
       "      <td>https://uploads-ssl.webflow.com/629007f9f06b5e...</td>\n",
       "      <td></td>\n",
       "      <td></td>\n",
       "      <td></td>\n",
       "    </tr>\n",
       "    <tr>\n",
       "      <th>3</th>\n",
       "      <td>Apartamento com vista panorâmica e 3 suítes na...</td>\n",
       "      <td>6.341.183,87</td>\n",
       "      <td>Praia Brava, Itajaí - SC</td>\n",
       "      <td>https://uploads-ssl.webflow.com/629007f9f06b5e...</td>\n",
       "      <td>3 Suítes</td>\n",
       "      <td>3 Banheiros</td>\n",
       "      <td>168m² Área Privativa</td>\n",
       "    </tr>\n",
       "    <tr>\n",
       "      <th>4</th>\n",
       "      <td>Apartamento com 3 dormitórios sendo 2 suítes, ...</td>\n",
       "      <td>3.400.000</td>\n",
       "      <td>Centro, Balneário Camboriú - SC</td>\n",
       "      <td>https://uploads-ssl.webflow.com/629007f9f06b5e...</td>\n",
       "      <td>1 Suíte</td>\n",
       "      <td>2 Banheiros</td>\n",
       "      <td>110m² Área Privativa</td>\n",
       "    </tr>\n",
       "  </tbody>\n",
       "</table>\n",
       "</div>"
      ],
      "text/plain": [
       "                                 descricao_do_imovel         preco  \\\n",
       "0      Apartamento com Vista Mar no Bairro Pioneiros     7.400.000   \n",
       "1  Apartamento no Diamond Crystal Tower, Centro d...  2.989.188,00   \n",
       "2              Terreno à venda em São Judas, Itajaí   1.830.000,00   \n",
       "3  Apartamento com vista panorâmica e 3 suítes na...  6.341.183,87   \n",
       "4  Apartamento com 3 dormitórios sendo 2 suítes, ...     3.400.000   \n",
       "\n",
       "                                  localizacao  \\\n",
       "0          Pioneiros, Balneário Camboriú - SC   \n",
       "1  Rua 1201, 432. Centro - Balneário Camboriú   \n",
       "2                      Sao Judas, Itajaí - SC   \n",
       "3                    Praia Brava, Itajaí - SC   \n",
       "4             Centro, Balneário Camboriú - SC   \n",
       "\n",
       "                                      link_da_imagem    suites    banheiros  \\\n",
       "0  https://uploads-ssl.webflow.com/629007f9f06b5e...  3 Suítes  4 Banheiros   \n",
       "1  https://uploads-ssl.webflow.com/629007f9f06b5e...  4 Suítes                \n",
       "2  https://uploads-ssl.webflow.com/629007f9f06b5e...                          \n",
       "3  https://uploads-ssl.webflow.com/629007f9f06b5e...  3 Suítes  3 Banheiros   \n",
       "4  https://uploads-ssl.webflow.com/629007f9f06b5e...   1 Suíte  2 Banheiros   \n",
       "\n",
       "                area_m2  \n",
       "0                        \n",
       "1              173,79m²  \n",
       "2                        \n",
       "3  168m² Área Privativa  \n",
       "4  110m² Área Privativa  "
      ]
     },
     "execution_count": 1208,
     "metadata": {},
     "output_type": "execute_result"
    }
   ],
   "source": [
    "df.head()"
   ]
  }
 ],
 "metadata": {
  "kernelspec": {
   "display_name": "Python 3",
   "language": "python",
   "name": "python3"
  },
  "language_info": {
   "codemirror_mode": {
    "name": "ipython",
    "version": 3
   },
   "file_extension": ".py",
   "mimetype": "text/x-python",
   "name": "python",
   "nbconvert_exporter": "python",
   "pygments_lexer": "ipython3",
   "version": "3.11.1"
  },
  "orig_nbformat": 4,
  "vscode": {
   "interpreter": {
    "hash": "ead1b95f633dc9c51826328e1846203f51a198c6fb5f2884a80417ba131d4e82"
   }
  }
 },
 "nbformat": 4,
 "nbformat_minor": 2
}
